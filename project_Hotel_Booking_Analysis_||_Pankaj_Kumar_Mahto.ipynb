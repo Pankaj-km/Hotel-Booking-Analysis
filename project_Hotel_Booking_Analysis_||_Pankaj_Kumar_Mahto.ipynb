{
  "nbformat": 4,
  "nbformat_minor": 0,
  "metadata": {
    "colab": {
      "private_outputs": true,
      "provenance": [],
      "collapsed_sections": [
        "vncDsAP0Gaoa",
        "FJNUwmbgGyua",
        "w6K7xa23Elo4",
        "yQaldy8SH6Dl",
        "PH-0ReGfmX4f",
        "mDgbUHAGgjLW",
        "O_i_v8NEhb9l",
        "HhfV-JJviCcP",
        "Y3lxredqlCYt",
        "3RnN4peoiCZX",
        "x71ZqKXriCWQ",
        "7hBIi_osiCS2",
        "JlHwYmJAmNHm",
        "35m5QtbWiB9F",
        "PoPl-ycgm1ru",
        "H0kj-8xxnORC",
        "nA9Y7ga8ng1Z",
        "PBTbrJXOngz2",
        "u3PMJOP6ngxN",
        "dauF4eBmngu3",
        "bKJF3rekwFvQ",
        "MSa1f5Uengrz",
        "GF8Ens_Soomf",
        "0wOQAZs5pc--",
        "K5QZ13OEpz2H",
        "lQ7QKXXCp7Bj",
        "448CDAPjqfQr",
        "KSlN3yHqYklG",
        "t6dVpIINYklI",
        "ijmpgYnKYklI",
        "-JiQyfWJYklI",
        "EM7whBJCYoAo",
        "fge-S5ZAYoAp",
        "85gYPyotYoAp",
        "RoGjAbkUYoAp",
        "4Of9eVA-YrdM",
        "iky9q4vBYrdO",
        "F6T5p64dYrdO",
        "y-Ehk30pYrdP",
        "bamQiAODYuh1",
        "QHF8YVU7Yuh3",
        "GwzvFGzlYuh3",
        "qYpmQ266Yuh3",
        "OH-pJp9IphqM",
        "bbFf2-_FphqN",
        "_ouA3fa0phqN",
        "Seke61FWphqN",
        "PIIx-8_IphqN",
        "t27r6nlMphqO",
        "r2jJGEOYphqO",
        "b0JNsNcRphqO",
        "BZR9WyysphqO",
        "jj7wYXLtphqO",
        "eZrbJ2SmphqO",
        "rFu4xreNphqO",
        "YJ55k-q6phqO",
        "gCFgpxoyphqP",
        "OVtJsKN_phqQ",
        "lssrdh5qphqQ",
        "U2RJ9gkRphqQ",
        "1M8mcRywphqQ",
        "tgIPom80phqQ",
        "JMzcOPDDphqR",
        "x-EpHcCOp1ci",
        "X_VqEhTip1ck",
        "8zGJKyg5p1ck",
        "PVzmfK_Ep1ck",
        "n3dbpmDWp1ck",
        "ylSl6qgtp1ck",
        "ZWILFDl5p1ck",
        "M7G43BXep1ck",
        "Ag9LCva-p1cl",
        "E6MkPsBcp1cl",
        "2cELzS2fp1cl",
        "3MPXvC8up1cl",
        "NC_X3p0fY2L0",
        "UV0SzAkaZNRQ",
        "YPEH6qLeZNRQ",
        "q29F0dvdveiT",
        "EXh0U9oCveiU",
        "22aHeOlLveiV",
        "JcMwzZxoAimU",
        "8G2x9gOozGDZ",
        "gCX9965dhzqZ",
        "gIfDvo9L0UH2"
      ],
      "include_colab_link": true
    },
    "kernelspec": {
      "name": "python3",
      "display_name": "Python 3"
    },
    "language_info": {
      "name": "python"
    }
  },
  "cells": [
    {
      "cell_type": "markdown",
      "metadata": {
        "id": "view-in-github",
        "colab_type": "text"
      },
      "source": [
        "<a href=\"https://colab.research.google.com/github/Pankaj-km/Hotel-Booking-Analysis/blob/main/project_Hotel_Booking_Analysis_%7C%7C_Pankaj_Kumar_Mahto.ipynb\" target=\"_parent\"><img src=\"https://colab.research.google.com/assets/colab-badge.svg\" alt=\"Open In Colab\"/></a>"
      ]
    },
    {
      "cell_type": "markdown",
      "source": [
        "# **Project Name**    -Hotel booking analysis\n",
        "\n"
      ],
      "metadata": {
        "id": "vncDsAP0Gaoa"
      }
    },
    {
      "cell_type": "markdown",
      "source": [
        "##### **Project Type**    - Exploratory Data Analysis\n",
        "##### **Contribution**    - Individual\n",
        "##### **Member Name -** Pankaj kumar Mahto"
      ],
      "metadata": {
        "id": "beRrZCGUAJYm"
      }
    },
    {
      "cell_type": "markdown",
      "source": [
        "# **Project Summary -**"
      ],
      "metadata": {
        "id": "FJNUwmbgGyua"
      }
    },
    {
      "cell_type": "markdown",
      "source": [
        "This project is related to Hotel Booking in two different categories (Resort Hotel and City Hotel). The dataset is consisting of 119390 rows.There are 32 different columns.The hotels are  booked by citizens of 178 countries, out of total bookings, few of them are cancelled.Then i start data wrangling on the given data ,first remove all duplicate values .There are (31994 rows) duplicate present in the dataset.The remaining data after removing duplicated is with 87396 rows.There are four columns with missing values, out of these four 'company' has 112593 missing values, 'agent' has 16340 values,'country' has 488 values and 'children'has 4 missing values. so we dropped the company column using drop method and the column name country is fill by \"unknown\" and other two columns 'agent' and 'children' are filled by zero .It helps us to undersand the data in a better way.The data set included customer booking information. As part of the analysis, descriptive statistics are calculated for each variable, and visualizations are created to explore the relationships between various variables. To get insight from the dataset, i build a variety of charts, including a count plot, bar plot, heatmap, pairplot .The purpose of this exploratory data analysis (EDA) is to explore the hotel booking data set and identify potential relationships between key variables and to identify the insights from the data."
      ],
      "metadata": {
        "id": "F6v_1wHtG2nS"
      }
    },
    {
      "cell_type": "markdown",
      "source": [
        "# **GitHub Link -**"
      ],
      "metadata": {
        "id": "w6K7xa23Elo4"
      }
    },
    {
      "cell_type": "markdown",
      "source": [
        "Provide your GitHub Link here."
      ],
      "metadata": {
        "id": "h1o69JH3Eqqn"
      }
    },
    {
      "cell_type": "markdown",
      "source": [
        "# **Problem Statement**\n"
      ],
      "metadata": {
        "id": "yQaldy8SH6Dl"
      }
    },
    {
      "cell_type": "markdown",
      "source": [
        "This project is about Hotel-Booking .In this we are going to analyse the Hotel-Booking dataset.This dataset contains information of city hotel and resort hotel, and includes information of booking time, length of stay, number of adults, children and/or babies, also have information of avaliable parking space, among other things.The objective of this project is explore and analyse the data to discover important factors regarding Hotels booking and its attributes."
      ],
      "metadata": {
        "id": "DpeJGUA3kjGy"
      }
    },
    {
      "cell_type": "markdown",
      "source": [
        "#### **Define Your Business Objective?**"
      ],
      "metadata": {
        "id": "PH-0ReGfmX4f"
      }
    },
    {
      "cell_type": "markdown",
      "source": [
        "The main objective is that to perform EDA on the given dataset and draw useful conclusions about today's trend and what changes are needed and what are the factors that effect the business"
      ],
      "metadata": {
        "id": "PhDvGCAqmjP1"
      }
    },
    {
      "cell_type": "markdown",
      "source": [
        "# **General Guidelines** : -  "
      ],
      "metadata": {
        "id": "mDgbUHAGgjLW"
      }
    },
    {
      "cell_type": "markdown",
      "source": [
        "1.   Well-structured, formatted, and commented code is required.\n",
        "2.   Exception Handling, Production Grade Code & Deployment Ready Code will be a plus. Those students will be awarded some additional credits.\n",
        "     \n",
        "     The additional credits will have advantages over other students during Star Student selection.\n",
        "       \n",
        "             [ Note: - Deployment Ready Code is defined as, the whole .ipynb notebook should be executable in one go\n",
        "                       without a single error logged. ]\n",
        "\n",
        "3.   Each and every logic should have proper comments.\n",
        "4. You may add as many number of charts you want. Make Sure for each and every chart the following format should be answered.\n",
        "        \n",
        "\n",
        "```\n",
        "# Chart visualization code\n",
        "```\n",
        "            \n",
        "\n",
        "*   Why did you pick the specific chart?\n",
        "*   What is/are the insight(s) found from the chart?\n",
        "* Will the gained insights help creating a positive business impact?\n",
        "Are there any insights that lead to negative growth? Justify with specific reason.\n",
        "\n",
        "5. You have to create at least 20 logical & meaningful charts having important insights.\n",
        "\n",
        "\n",
        "[ Hints : - Do the Vizualization in  a structured way while following \"UBM\" Rule.\n",
        "\n",
        "U - Univariate Analysis,\n",
        "\n",
        "B - Bivariate Analysis (Numerical - Categorical, Numerical - Numerical, Categorical - Categorical)\n",
        "\n",
        "M - Multivariate Analysis\n",
        " ]\n",
        "\n",
        "\n",
        "\n"
      ],
      "metadata": {
        "id": "ZrxVaUj-hHfC"
      }
    },
    {
      "cell_type": "markdown",
      "source": [
        "# ***Let's Begin !***"
      ],
      "metadata": {
        "id": "O_i_v8NEhb9l"
      }
    },
    {
      "cell_type": "markdown",
      "source": [
        "## ***1. Know Your Data***"
      ],
      "metadata": {
        "id": "HhfV-JJviCcP"
      }
    },
    {
      "cell_type": "markdown",
      "source": [
        "### Import Libraries"
      ],
      "metadata": {
        "id": "Y3lxredqlCYt"
      }
    },
    {
      "cell_type": "code",
      "source": [
        "# Import Libraries\n",
        "import pandas as pd\n",
        "import numpy as np\n",
        "import matplotlib.pyplot as plt\n",
        "import seaborn as sns\n",
        "from numpy import loadtxt\n",
        "from datetime import datetime\n",
        "%matplotlib inline\n",
        "import warnings\n",
        "warnings.filterwarnings(\"ignore\")"
      ],
      "metadata": {
        "id": "M8Vqi-pPk-HR"
      },
      "execution_count": null,
      "outputs": []
    },
    {
      "cell_type": "markdown",
      "source": [
        "### Dataset Loading"
      ],
      "metadata": {
        "id": "3RnN4peoiCZX"
      }
    },
    {
      "cell_type": "code",
      "source": [
        "# Load Dataset\n",
        "from google.colab import drive\n",
        "drive.mount('/content/drive')"
      ],
      "metadata": {
        "id": "4CkvbW_SlZ_R"
      },
      "execution_count": null,
      "outputs": []
    },
    {
      "cell_type": "code",
      "source": [
        "# Dataset First Look\n",
        "file_path=\"/content/drive/MyDrive/Hotel/Hotel Bookings.csv\"\n",
        "hotel_df = pd.read_csv(file_path)\n",
        "hotel_df"
      ],
      "metadata": {
        "id": "LWNFOSvLl09H"
      },
      "execution_count": null,
      "outputs": []
    },
    {
      "cell_type": "markdown",
      "source": [
        "### Dataset First View"
      ],
      "metadata": {
        "id": "x71ZqKXriCWQ"
      }
    },
    {
      "cell_type": "code",
      "source": [
        "# Dataset First Look(Top five rows using head())\n",
        "hotel_df.head()"
      ],
      "metadata": {
        "id": "6hWrvPPJXrrx"
      },
      "execution_count": null,
      "outputs": []
    },
    {
      "cell_type": "code",
      "source": [
        "#last five rows by using tail()\n",
        "hotel_df.tail()"
      ],
      "metadata": {
        "id": "3n6Aq2anX2H_"
      },
      "execution_count": null,
      "outputs": []
    },
    {
      "cell_type": "markdown",
      "source": [
        "### Dataset Rows & Columns count"
      ],
      "metadata": {
        "id": "7hBIi_osiCS2"
      }
    },
    {
      "cell_type": "code",
      "source": [
        "# Dataset Rows & Columns count\n",
        "hotel_df.shape"
      ],
      "metadata": {
        "id": "Kllu7SJgmLij"
      },
      "execution_count": null,
      "outputs": []
    },
    {
      "cell_type": "markdown",
      "source": [
        "### Dataset Information"
      ],
      "metadata": {
        "id": "JlHwYmJAmNHm"
      }
    },
    {
      "cell_type": "code",
      "source": [
        "# Dataset Info\n",
        "hotel_df.info()"
      ],
      "metadata": {
        "id": "e9hRXRi6meOf"
      },
      "execution_count": null,
      "outputs": []
    },
    {
      "cell_type": "markdown",
      "source": [
        "#### Duplicate Values"
      ],
      "metadata": {
        "id": "35m5QtbWiB9F"
      }
    },
    {
      "cell_type": "code",
      "source": [
        "# Dataset Duplicate Value Count\n",
        "duplicate_values = hotel_df.duplicated().value_counts()\n",
        "duplicate_values"
      ],
      "metadata": {
        "id": "1sLdpKYkmox0"
      },
      "execution_count": null,
      "outputs": []
    },
    {
      "cell_type": "markdown",
      "source": [
        "#### Missing Values/Null Values"
      ],
      "metadata": {
        "id": "PoPl-ycgm1ru"
      }
    },
    {
      "cell_type": "code",
      "source": [
        "# Missing Values/Null Values Count\n",
        "hotel_df.isna().sum()"
      ],
      "metadata": {
        "id": "GgHWkxvamxVg"
      },
      "execution_count": null,
      "outputs": []
    },
    {
      "cell_type": "code",
      "source": [
        "# Visualizing the missing values\n",
        "missing_value = hotel_df.isna().sum().sort_values(ascending=False)[:4]\n",
        "missing_value"
      ],
      "metadata": {
        "id": "3q5wnI3om9sJ"
      },
      "execution_count": null,
      "outputs": []
    },
    {
      "cell_type": "code",
      "source": [
        "# Visualizing the missing values\n",
        "plt.figure(figsize=(10,6))\n",
        "sns.barplot(x=missing_value.index,y=missing_value.values)\n",
        "plt.title(\"Graph of number of null values with respect to its variable\")\n",
        "plt.show()"
      ],
      "metadata": {
        "id": "zsNWbsuAy-gc"
      },
      "execution_count": null,
      "outputs": []
    },
    {
      "cell_type": "markdown",
      "source": [
        "### What did you know about your dataset?"
      ],
      "metadata": {
        "id": "H0kj-8xxnORC"
      }
    },
    {
      "cell_type": "markdown",
      "source": [
        "The given dataset is of Hotel Booking and we have to analyse and explore this dataset to discover important facrtors which affects the Hotel Booking.There are two types of hotel one is resort and another one is city hotel. The above dataset has 119390 rows and 32 coulumns.The duplicate value count is 31994 rows and 32 columns. There are 4 columns in dataset which have missing valuse and those columns are company, agent, country and children."
      ],
      "metadata": {
        "id": "gfoNAAC-nUe_"
      }
    },
    {
      "cell_type": "markdown",
      "source": [
        "## ***2. Understanding Your Variables***"
      ],
      "metadata": {
        "id": "nA9Y7ga8ng1Z"
      }
    },
    {
      "cell_type": "code",
      "source": [
        "# Dataset Columns\n",
        "hotel_df.columns"
      ],
      "metadata": {
        "id": "j7xfkqrt5Ag5"
      },
      "execution_count": null,
      "outputs": []
    },
    {
      "cell_type": "code",
      "source": [
        "# Dataset Describe\n",
        "hotel_df.describe()"
      ],
      "metadata": {
        "id": "DnOaZdaE5Q5t"
      },
      "execution_count": null,
      "outputs": []
    },
    {
      "cell_type": "markdown",
      "source": [
        "### Variables Description"
      ],
      "metadata": {
        "id": "PBTbrJXOngz2"
      }
    },
    {
      "cell_type": "markdown",
      "source": [
        "**Hotel**: Type of hotel (City hotel or Resort hotel)\n",
        "\n",
        "**is_cancelled**: If the booking was cancelled (1) or not (0)\n",
        "\n",
        "**lead_time**: Number of days before the actual arrival of the guests\n",
        "\n",
        "**arrival_date_year**: Year of arrival date (2015-2017)\n",
        "\n",
        "**arrival_date_month**: Month of arrival date\n",
        "\n",
        "**arrival_date_week_number**: Week number of year for arrival date\n",
        "\n",
        "**arrival_date_day_of_month**: Day of arrival date\n",
        "\n",
        "**stays_in_weekend_nights**: Number of weekend nights(Saturday or Sunday) spent at the hotel by the guests.\n",
        "\n",
        "**stays_in_week_nights**: Number of week nights(Monday to Friday) spent at the hotel by the guests.\n",
        "\n",
        "**adults**: Number of adults among the guests\n",
        "\n",
        "**children**: Number of children\n",
        "\n",
        "**babies**: Number of babies\n",
        "\n",
        "**meal**: Type of meal booked (BB-Breakfast, HB- Half Board, FB- Full Board, SC- Self Catering)\n",
        "\n",
        "**country**: country of the guests\n",
        "\n",
        "**market_segment**: Designation of market segment(Aviation, Complementary, Corporate, Direct, Groups, Inline TA, Offline TO/TA) Where TO and TA stands for Tour Operator and Travel Agent respectively.\n",
        "\n",
        "**distribution_channel**: Name of booking distribution channel (Corporate, Direct, GDS, TA/TO)\n",
        "\n",
        "**is_repeated_guest**: If the booking was from a repeated guest(1) or not(0)\n",
        "\n",
        "**previous_cancellation**: Number of previous bookings that were cancelled by the customer prior to the current booking\n",
        "\n",
        "**previous_bookings_not_cancelled**: Number of previous bookins not cancelled by the customer prior to the current booking\n",
        "\n",
        "**reserved_room_type**: Code from room type reserved\n",
        "\n",
        "**assigned_room_type**: Code of room type assigned\n",
        "\n",
        "**booking_changes**: Number of changes made to the booking\n",
        "\n",
        "**deposit_type**: Type of deposite made by the guest\n",
        "\n",
        "**agent**: ID of travel agent who made the booking\n",
        "\n",
        "**comapny**: ID of the company that made the booking\n",
        "\n",
        "**days_in_waiting_list**: Number of the days the booking was in the waiting list\n",
        "\n",
        "**customer_type**: Type of customer, assuming one of four categories\n",
        "\n",
        "**adr**: Average daily rate\n",
        "\n",
        "**required_car_parking_spaces**: Number of car parking spaces required bt the customer\n",
        "\n",
        "**total_of_special_requesrs**: Number of special requests made by the customer\n",
        "\n",
        "**reservation_statuse**: Reservation status(Canceled, check-out or no-show)\n",
        "\n",
        "**reservation_status_date**: Date at which the last reservation status was updated\n",
        "\n"
      ],
      "metadata": {
        "id": "aJV4KIxSnxay"
      }
    },
    {
      "cell_type": "markdown",
      "source": [
        "### Check Unique Values for each variable."
      ],
      "metadata": {
        "id": "u3PMJOP6ngxN"
      }
    },
    {
      "cell_type": "code",
      "source": [
        "# Check Unique Values for each variable.\n",
        "unique_countires= hotel_df['country'].unique()\n",
        "print(f'There are {len(unique_countires)} unique countries in this dataset')"
      ],
      "metadata": {
        "id": "zms12Yq5n-jE"
      },
      "execution_count": null,
      "outputs": []
    },
    {
      "cell_type": "markdown",
      "source": [
        "## 3. ***Data Wrangling***"
      ],
      "metadata": {
        "id": "dauF4eBmngu3"
      }
    },
    {
      "cell_type": "markdown",
      "source": [
        "### Data Wrangling Code"
      ],
      "metadata": {
        "id": "bKJF3rekwFvQ"
      }
    },
    {
      "cell_type": "code",
      "source": [
        "# Write your code to make your dataset analysis ready.\n",
        "new_hotel_df=hotel_df.copy()\n",
        "new_hotel_df"
      ],
      "metadata": {
        "id": "wk-9a2fpoLcV"
      },
      "execution_count": null,
      "outputs": []
    },
    {
      "cell_type": "markdown",
      "source": [
        "Check Unique Values for each variable."
      ],
      "metadata": {
        "id": "urpsvlrU0Fd5"
      }
    },
    {
      "cell_type": "code",
      "source": [
        "print(new_hotel_df.apply(lambda col: col.unique()))"
      ],
      "metadata": {
        "id": "FV9xFAVP0NXS"
      },
      "execution_count": null,
      "outputs": []
    },
    {
      "cell_type": "markdown",
      "source": [
        "**Removal of duplicate data**"
      ],
      "metadata": {
        "id": "_PGIDaco0YRc"
      }
    },
    {
      "cell_type": "code",
      "source": [
        "# Rows containing duplicate data   ........out of 119390 there are 31994 rows have duplicate data.\n",
        "duplicate_rows_data = new_hotel_df[new_hotel_df.duplicated()]\n",
        "print(\"Number of duplicate rows\", duplicate_rows_data.shape)"
      ],
      "metadata": {
        "id": "-FnGwT3M0TrA"
      },
      "execution_count": null,
      "outputs": []
    },
    {
      "cell_type": "code",
      "source": [
        "# Dropping duplicate Values\n",
        "new_hotel_df.drop_duplicates(inplace = True)\n",
        "new_hotel_df.shape"
      ],
      "metadata": {
        "id": "vLfNjeom0fv7"
      },
      "execution_count": null,
      "outputs": []
    },
    {
      "cell_type": "code",
      "source": [
        "#Dataset after removing duplicates\n",
        "new_hotel_df"
      ],
      "metadata": {
        "id": "hvm3BvV50iY6"
      },
      "execution_count": null,
      "outputs": []
    },
    {
      "cell_type": "code",
      "source": [
        "# The 'company' column has significant missing values so we may drop this column as this will not be useful for us.(112593)\n",
        "new_hotel_df = new_hotel_df.drop(['company'], axis = 1)"
      ],
      "metadata": {
        "id": "uoiWQqlh0n7U"
      },
      "execution_count": null,
      "outputs": []
    },
    {
      "cell_type": "code",
      "source": [
        "# Null values are replaced using for loop and .fillna()\n",
        "null_columns=['agent','children']\n",
        "for columns in null_columns:\n",
        "  new_hotel_df[columns].fillna(0,inplace=True)"
      ],
      "metadata": {
        "id": "gfgioxon0o5V"
      },
      "execution_count": null,
      "outputs": []
    },
    {
      "cell_type": "code",
      "source": [
        "# Null values of country column are replced by unkown using .fillna()\n",
        "new_hotel_df['country'].fillna('unknown',inplace=True)"
      ],
      "metadata": {
        "id": "wu_PUV6O0s8s"
      },
      "execution_count": null,
      "outputs": []
    },
    {
      "cell_type": "code",
      "source": [
        "#Seeing is there is any null value\n",
        "new_hotel_df.isna().sum().sort_values(ascending=False)[:4]"
      ],
      "metadata": {
        "id": "J_mi7YXJ0wOy"
      },
      "execution_count": null,
      "outputs": []
    },
    {
      "cell_type": "markdown",
      "source": [
        "### What all manipulations have you done and insights you found?"
      ],
      "metadata": {
        "id": "MSa1f5Uengrz"
      }
    },
    {
      "cell_type": "markdown",
      "source": [
        "\n",
        "\n",
        "* **In this dataset there are 31994 duplicate value .so those values are removed**\n",
        "* **There** **are** **2** **columns** **which** **have** **missing** **values** **and** **the** **columns** **are** **'agent','children'**. **The** **values** **from** **these** **columns** **are** **replaced** **by** **zero**.\n",
        "\n",
        "\n",
        "* **There** **is** **one** **column** **name** \"**company**\" **which** **has** **many** **null** **values**. **so** **this** **column** **is** **removed**.\n",
        "***The null** **values** **in** **column**\"**country**\" **fill** **by** **unkown**.\n",
        "* **In** **dataframe** **added** **two** **columns**  **total_stay** **and** **total_guest**.\n",
        "* **Three**  **columns** **'adults'**,'**children**','**babies' has** **value** **zero** **which** **means** **no** **booking** **has** **done** **here**, **so these rows are remove.**\n",
        "\n",
        "\n",
        "*   **Conversion of data type of column'children'  from float to int.**\n",
        "\n",
        "\n",
        "\n",
        "\n",
        "\n",
        "\n",
        "\n"
      ],
      "metadata": {
        "id": "LbyXE7I1olp8"
      }
    },
    {
      "cell_type": "markdown",
      "source": [
        "## ***4. Data Vizualization, Storytelling & Experimenting with charts : Understand the relationships between variables***"
      ],
      "metadata": {
        "id": "GF8Ens_Soomf"
      }
    },
    {
      "cell_type": "markdown",
      "source": [
        "#### Chart - 1"
      ],
      "metadata": {
        "id": "0wOQAZs5pc--"
      }
    },
    {
      "cell_type": "code",
      "source": [
        "# Chart - 1 visualization code\n",
        "hotel_value = new_hotel_df['hotel'].value_counts()\n",
        "hotel_value"
      ],
      "metadata": {
        "id": "7v_ESjsspbW7"
      },
      "execution_count": null,
      "outputs": []
    },
    {
      "cell_type": "code",
      "source": [
        "# piechart is used for visualization\n",
        "hotel_value.plot.pie(autopct='%.2f%%',explode=[0.04, 0.04],shadow=True,fontsize=14)\n",
        "plt.title('Pie Chart for Most Preferred Hotel',fontsize = 15)\n",
        "plt.show()"
      ],
      "metadata": {
        "id": "5g7EhAmh1JbW"
      },
      "execution_count": null,
      "outputs": []
    },
    {
      "cell_type": "markdown",
      "source": [
        "##### 1. Why did you pick the specific chart?"
      ],
      "metadata": {
        "id": "K5QZ13OEpz2H"
      }
    },
    {
      "cell_type": "markdown",
      "source": [
        "**I choose piechart because it helps us to understand more about the data and make visualisation more effective it gives which hotel is more preffered by guest in  a simple and effective way**"
      ],
      "metadata": {
        "id": "XESiWehPqBRc"
      }
    },
    {
      "cell_type": "markdown",
      "source": [
        "##### 2. What is/are the insight(s) found from the chart?"
      ],
      "metadata": {
        "id": "lQ7QKXXCp7Bj"
      }
    },
    {
      "cell_type": "markdown",
      "source": [
        "**I find that city hotel has more than 1.5 times bookings in compare to the Resort hotels. city hotel has 61.07% bookings and Resort hotel has 38.93% bookings.**"
      ],
      "metadata": {
        "id": "C_j1G7yiqdRP"
      }
    },
    {
      "cell_type": "markdown",
      "source": [
        "##### 3. Will the gained insights help creating a positive business impact?\n",
        "Are there any insights that lead to negative growth? Justify with specific reason."
      ],
      "metadata": {
        "id": "448CDAPjqfQr"
      }
    },
    {
      "cell_type": "markdown",
      "source": [
        "**The** **reason** **behind** **the** **higher** **bookings** **in** **the** **City** **hotel** **is** **that** **City** **hotels** **are** **in** **the** **city** **and** **Resort** **hotels** **are outside** **the** **city** **so** **City** **hotels** **are** **easily** **approachable** **to** **guests** **and** **probably** **these** **may** **be** **cheaper** **in** **comparison** **to** **Resort** **hotels**.\n",
        "\n",
        "**City** **hotels** **can** **find** **more** **services** **to attract more** **guests** **to** **increase** **more** **revenue** **while** **the** **Resort** **hotels** **should** **find** **solutions** **to** **attract** **guests**.\n",
        "\n",
        "**Resort hotel should have to make some policy to increase their number of bookings like giving some offers on stay.**\n",
        "\n"
      ],
      "metadata": {
        "id": "3cspy4FjqxJW"
      }
    },
    {
      "cell_type": "markdown",
      "source": [
        "#### Chart - 2"
      ],
      "metadata": {
        "id": "KSlN3yHqYklG"
      }
    },
    {
      "cell_type": "code",
      "source": [
        "# Chart - 2 visualization code\n",
        "booking_data= new_hotel_df[new_hotel_df['stays_in_week_nights']==1]\n",
        "top_5_country = booking_data['country'].value_counts()[:5]\n",
        "plt.title('Top 5 countries with maxmium hotel booking')\n",
        "plt.pie(top_5_country, shadow=True,autopct= '%.2f%%', labels= top_5_country.index)\n",
        "plt.show()"
      ],
      "metadata": {
        "id": "R4YgtaqtYklH"
      },
      "execution_count": null,
      "outputs": []
    },
    {
      "cell_type": "markdown",
      "source": [
        "##### 1. Why did you pick the specific chart?"
      ],
      "metadata": {
        "id": "t6dVpIINYklI"
      }
    },
    {
      "cell_type": "markdown",
      "source": [
        "**I use pie chart for the better visualization and comparative study among different countries that which country has maximum number of bookings**."
      ],
      "metadata": {
        "id": "5aaW0BYyYklI"
      }
    },
    {
      "cell_type": "markdown",
      "source": [
        "##### 2. What is/are the insight(s) found from the chart?"
      ],
      "metadata": {
        "id": "ijmpgYnKYklI"
      }
    },
    {
      "cell_type": "markdown",
      "source": [
        "**I find top five countries with maxmium number of booking.I find that Portugal (PRT) has highest number of bookings with a 68.87%.**"
      ],
      "metadata": {
        "id": "PSx9atu2YklI"
      }
    },
    {
      "cell_type": "markdown",
      "source": [
        "##### 3. Will the gained insights help creating a positive business impact?\n",
        "Are there any insights that lead to negative growth? Justify with specific reason."
      ],
      "metadata": {
        "id": "-JiQyfWJYklI"
      }
    },
    {
      "cell_type": "markdown",
      "source": [
        "**This data can be used for attracting the remaining people of Portugal and other neighbouring contries, some schemes may be introduced or social media awareness, advertising may be increased to get more customers from nearby areas**.\n",
        "\n",
        "**Feedback gathered from these guests may be used to increase guests from other countries too and strategies may be planned according to this.**"
      ],
      "metadata": {
        "id": "BcBbebzrYklV"
      }
    },
    {
      "cell_type": "markdown",
      "source": [
        "#### Chart - 3"
      ],
      "metadata": {
        "id": "EM7whBJCYoAo"
      }
    },
    {
      "cell_type": "code",
      "source": [
        "# Chart - 3 visualization code\n",
        "cancelled_data= new_hotel_df[new_hotel_df['is_canceled']==1]\n",
        "top_5_country = cancelled_data['country'].value_counts()[:5]\n",
        "plt.title('Top 5 countries with maxmium reservation cancelled')\n",
        "plt.pie(top_5_country, autopct= '%.2f%%', labels= top_5_country.index)\n",
        "plt.show()"
      ],
      "metadata": {
        "id": "t6GMdE67YoAp"
      },
      "execution_count": null,
      "outputs": []
    },
    {
      "cell_type": "markdown",
      "source": [
        "##### 1. Why did you pick the specific chart?"
      ],
      "metadata": {
        "id": "fge-S5ZAYoAp"
      }
    },
    {
      "cell_type": "markdown",
      "source": [
        "**I use piechart it helps to summarize a large data set in visual form in a very effective manner.Here it show  the better visualization and comparative study among different countries that which country has maximum number of booking cancellations**."
      ],
      "metadata": {
        "id": "5dBItgRVYoAp"
      }
    },
    {
      "cell_type": "markdown",
      "source": [
        "##### 2. What is/are the insight(s) found from the chart?"
      ],
      "metadata": {
        "id": "85gYPyotYoAp"
      }
    },
    {
      "cell_type": "markdown",
      "source": [
        "**I find that Portugal (PRT) has highest number of cancellations  with 59.52% against total booking of 68.87% (as discussed in previous chart)**."
      ],
      "metadata": {
        "id": "4jstXR6OYoAp"
      }
    },
    {
      "cell_type": "markdown",
      "source": [
        "##### 3. Will the gained insights help creating a positive business impact?\n",
        "Are there any insights that lead to negative growth? Justify with specific reason."
      ],
      "metadata": {
        "id": "RoGjAbkUYoAp"
      }
    },
    {
      "cell_type": "markdown",
      "source": [
        "**This data s alarming one, brainstorming is required that why similar countries are booking and cancellations.**\n",
        "\n",
        "**This may be due to easiness of booking or cancellations processes, due to less cancellation charges.**"
      ],
      "metadata": {
        "id": "zfJ8IqMcYoAp"
      }
    },
    {
      "cell_type": "markdown",
      "source": [
        "#### Chart - 4"
      ],
      "metadata": {
        "id": "4Of9eVA-YrdM"
      }
    },
    {
      "cell_type": "code",
      "source": [
        "# Chart - 4 visualization code\n",
        "# 1 is for booking made by repeated guest and 0 is for booking not made by repeated guest.\n",
        "repeated_guests = new_hotel_df['is_repeated_guest'].value_counts()\n",
        "repeated_guests"
      ],
      "metadata": {
        "id": "irlUoxc8YrdO"
      },
      "execution_count": null,
      "outputs": []
    },
    {
      "cell_type": "code",
      "source": [
        "repeated_guests.plot.pie(explode=[0.05,0.05],autopct='%.2f%%',fontsize=13)\n",
        "plt.title('Percentage of repeated guests ',fontsize = 18)"
      ],
      "metadata": {
        "id": "qtmyOJ0D3CBf"
      },
      "execution_count": null,
      "outputs": []
    },
    {
      "cell_type": "markdown",
      "source": [
        "##### 1. Why did you pick the specific chart?"
      ],
      "metadata": {
        "id": "iky9q4vBYrdO"
      }
    },
    {
      "cell_type": "markdown",
      "source": [
        "**I use pie chart because pie chart gives simple and easy to understand picture that shows how many guests book particular hotel repeatedly.**"
      ],
      "metadata": {
        "id": "aJRCwT6DYrdO"
      }
    },
    {
      "cell_type": "markdown",
      "source": [
        "##### 2. What is/are the insight(s) found from the chart?"
      ],
      "metadata": {
        "id": "F6T5p64dYrdO"
      }
    },
    {
      "cell_type": "markdown",
      "source": [
        "**I find that only 3.86 %guests book the same hotel again**."
      ],
      "metadata": {
        "id": "Xx8WAJvtYrdO"
      }
    },
    {
      "cell_type": "markdown",
      "source": [
        "##### 3. Will the gained insights help creating a positive business impact?\n",
        "Are there any insights that lead to negative growth? Justify with specific reason."
      ],
      "metadata": {
        "id": "y-Ehk30pYrdP"
      }
    },
    {
      "cell_type": "markdown",
      "source": [
        "**Yes, the gained insights help creating a positive business impact like the hotels which do not booked repetadly by guests can take feedback's from the guests and try to impove there services.**"
      ],
      "metadata": {
        "id": "jLNxxz7MYrdP"
      }
    },
    {
      "cell_type": "markdown",
      "source": [
        "#### Chart - 5"
      ],
      "metadata": {
        "id": "bamQiAODYuh1"
      }
    },
    {
      "cell_type": "code",
      "source": [
        "# Chart - 5 visualization code\n",
        "room_type = new_hotel_df['assigned_room_type'].value_counts()\n",
        "room_type"
      ],
      "metadata": {
        "id": "TIJwrbroYuh3"
      },
      "execution_count": null,
      "outputs": []
    },
    {
      "cell_type": "code",
      "source": [
        "#Barchart is used for visualization of most preferred room type.\n",
        "booking_by_type = new_hotel_df[\"reserved_room_type\"].value_counts()\n",
        "booking_by_type.plot(kind='bar', color='green')\n",
        "plt.title('Booking Volume for different Room types', fontsize= 18)\n",
        "plt.ylabel('Number of Bookings', fontsize= 15)\n",
        "plt.xlabel('Room Type', fontsize= 15)"
      ],
      "metadata": {
        "id": "SlSWGInP3pW9"
      },
      "execution_count": null,
      "outputs": []
    },
    {
      "cell_type": "markdown",
      "source": [
        "##### 1. Why did you pick the specific chart?"
      ],
      "metadata": {
        "id": "QHF8YVU7Yuh3"
      }
    },
    {
      "cell_type": "markdown",
      "source": [
        "**I choose Barchart to visualize most preferred roomtype because Barchart display the count of each observation for each category and here we have to represent room type vs room type count.**"
      ],
      "metadata": {
        "id": "dcxuIMRPYuh3"
      }
    },
    {
      "cell_type": "markdown",
      "source": [
        "##### 2. What is/are the insight(s) found from the chart?"
      ],
      "metadata": {
        "id": "GwzvFGzlYuh3"
      }
    },
    {
      "cell_type": "markdown",
      "source": [
        "**This insight find that  Room type A has maximum demand most perferred by guests and the count is 46283 and after that 'D' type rooms are preferred by the guest and count is 22419 and less L with count 1.**"
      ],
      "metadata": {
        "id": "uyqkiB8YYuh3"
      }
    },
    {
      "cell_type": "markdown",
      "source": [
        "##### 3. Will the gained insights help creating a positive business impact?\n",
        "Are there any insights that lead to negative growth? Justify with specific reason."
      ],
      "metadata": {
        "id": "qYpmQ266Yuh3"
      }
    },
    {
      "cell_type": "markdown",
      "source": [
        "* **'A' type rooms are most preferred rooms. This make positive impact on business.**\n",
        "* **'H','I','K','L' type rooms are less preferred this insight makes negative impact.**\n",
        "* **This is because type 'A' rooms have 46283 bookings and type 'L' room has only one booking.**"
      ],
      "metadata": {
        "id": "_WtzZ_hCYuh4"
      }
    },
    {
      "cell_type": "markdown",
      "source": [
        "#### Chart - 6"
      ],
      "metadata": {
        "id": "OH-pJp9IphqM"
      }
    },
    {
      "cell_type": "code",
      "source": [
        "# Chart - 6 visualization code\n",
        "highest_adr = new_hotel_df.groupby('hotel')['adr'].mean().reset_index()\n",
        "highest_adr"
      ],
      "metadata": {
        "id": "kuRf4wtuphqN"
      },
      "execution_count": null,
      "outputs": []
    },
    {
      "cell_type": "code",
      "source": [
        "# Visualization of highest adr using barplot\n",
        "sns.barplot(x=highest_adr['hotel'],y=highest_adr['adr'])\n",
        "plt.title('ADR for each Hotel type', fontsize=18)\n",
        "plt.xlabel('Type of hotel',fontsize=14)\n",
        "plt.ylabel('ADR', fontsize=15)\n",
        "plt.show()"
      ],
      "metadata": {
        "id": "uZgkfVYN3_EP"
      },
      "execution_count": null,
      "outputs": []
    },
    {
      "cell_type": "markdown",
      "source": [
        "##### 1. Why did you pick the specific chart?"
      ],
      "metadata": {
        "id": "bbFf2-_FphqN"
      }
    },
    {
      "cell_type": "markdown",
      "source": [
        "**I choose bar plot because it gives simple pictorial diagram and it is also easy to understand.**"
      ],
      "metadata": {
        "id": "loh7H2nzphqN"
      }
    },
    {
      "cell_type": "markdown",
      "source": [
        "##### 2. What is/are the insight(s) found from the chart?"
      ],
      "metadata": {
        "id": "_ouA3fa0phqN"
      }
    },
    {
      "cell_type": "markdown",
      "source": [
        "**The insight found from the chart is City hotel has highest adr that means City hotel generate more revenue.**"
      ],
      "metadata": {
        "id": "VECbqPI7phqN"
      }
    },
    {
      "cell_type": "markdown",
      "source": [
        "##### 3. Will the gained insights help creating a positive business impact?\n",
        "Are there any insights that lead to negative growth? Justify with specific reason."
      ],
      "metadata": {
        "id": "Seke61FWphqN"
      }
    },
    {
      "cell_type": "markdown",
      "source": [
        "* **The city hotel has highest adr it means it generate more revenue so it give positive impact on business.**\n",
        "* **Resort hotel gives negative impact on business.**\n",
        "\n",
        "\n",
        "* **Resort hotel should have increase there facilitis which increase revenue.**\n",
        "* **City hotel has adr 111.27 means more revenue and resort hotel has 99.02 adr means less revenue than city hotel.**\n",
        "\n",
        "\n",
        "\n"
      ],
      "metadata": {
        "id": "DW4_bGpfphqN"
      }
    },
    {
      "cell_type": "markdown",
      "source": [
        "#### Chart - 7"
      ],
      "metadata": {
        "id": "PIIx-8_IphqN"
      }
    },
    {
      "cell_type": "code",
      "source": [
        "# Chart - 7 visualization code\n",
        "preferred_food = new_hotel_df['meal'].value_counts()\n",
        "preferred_food"
      ],
      "metadata": {
        "id": "lqAIGUfyphqO"
      },
      "execution_count": null,
      "outputs": []
    },
    {
      "cell_type": "code",
      "source": [
        "# Visualization of most preferred food using countplot\n",
        "plt.figure(figsize=(8,5))\n",
        "sns.countplot(x=new_hotel_df['meal'],order=new_hotel_df['meal'].value_counts().index)\n",
        "plt.title(\"Most preferred Food\", fontsize = 18)\n",
        "plt.xlabel('Type of the food', fontsize = 14)\n",
        "plt.ylabel('Food type count', fontsize = 14)"
      ],
      "metadata": {
        "id": "1ZFHTi_Z4aC7"
      },
      "execution_count": null,
      "outputs": []
    },
    {
      "cell_type": "markdown",
      "source": [
        "##### 1. Why did you pick the specific chart?"
      ],
      "metadata": {
        "id": "t27r6nlMphqO"
      }
    },
    {
      "cell_type": "markdown",
      "source": [
        "**I use barplot bacuase it gives easy to understand pictorial diagram it gives clear picture of ehich food is most prefferd by guest**"
      ],
      "metadata": {
        "id": "iv6ro40sphqO"
      }
    },
    {
      "cell_type": "markdown",
      "source": [
        "##### 2. What is/are the insight(s) found from the chart?"
      ],
      "metadata": {
        "id": "r2jJGEOYphqO"
      }
    },
    {
      "cell_type": "markdown",
      "source": [
        "**I find that food type BB is most preferred by the guests**"
      ],
      "metadata": {
        "id": "Po6ZPi4hphqO"
      }
    },
    {
      "cell_type": "markdown",
      "source": [
        "##### 3. Will the gained insights help creating a positive business impact?\n",
        "Are there any insights that lead to negative growth? Justify with specific reason."
      ],
      "metadata": {
        "id": "b0JNsNcRphqO"
      }
    },
    {
      "cell_type": "markdown",
      "source": [
        "* **BB type of food is most preferred food due to BB type food is cheaper, this makes positive impact on business**\n",
        "* **Undefined and FB type of food is less preferred this insight makes neative impact on business.**\n",
        "* **The BBtype food is preferred by 67907 guests and FB type of food is preferred by only 360 guests.**"
      ],
      "metadata": {
        "id": "xvSq8iUTphqO"
      }
    },
    {
      "cell_type": "markdown",
      "source": [
        "#### Chart - 8"
      ],
      "metadata": {
        "id": "BZR9WyysphqO"
      }
    },
    {
      "cell_type": "code",
      "source": [
        "# Chart - 8 visualization code\n",
        "Waiting_time = new_hotel_df.groupby('hotel')['days_in_waiting_list'].mean().reset_index()\n",
        "Waiting_time"
      ],
      "metadata": {
        "id": "TdPTWpAVphqO"
      },
      "execution_count": null,
      "outputs": []
    },
    {
      "cell_type": "code",
      "source": [
        "# Visualization of hotel which has longer waiting time by using barplot\n",
        "sns.barplot(x=Waiting_time['hotel'],y=Waiting_time['days_in_waiting_list'])\n",
        "plt.title('Waiting time for each hotel type', fontsize=20)\n",
        "plt.xlabel('Type of hotel',fontsize=15)\n",
        "plt.ylabel('Waiting time', fontsize=15)"
      ],
      "metadata": {
        "id": "rwzh2ERx4zVS"
      },
      "execution_count": null,
      "outputs": []
    },
    {
      "cell_type": "markdown",
      "source": [
        "##### 1. Why did you pick the specific chart?"
      ],
      "metadata": {
        "id": "jj7wYXLtphqO"
      }
    },
    {
      "cell_type": "markdown",
      "source": [
        "**I choose barplot bacuase it gives easy to understand pictorial diagram for the visualization of which hotel has longer waiting time.**"
      ],
      "metadata": {
        "id": "Ob8u6rCTphqO"
      }
    },
    {
      "cell_type": "markdown",
      "source": [
        "##### 2. What is/are the insight(s) found from the chart?"
      ],
      "metadata": {
        "id": "eZrbJ2SmphqO"
      }
    },
    {
      "cell_type": "markdown",
      "source": [
        "**City hotel has longer waiting time.Therefore City hotel is much busier than Resort hotel.**"
      ],
      "metadata": {
        "id": "mZtgC_hjphqO"
      }
    },
    {
      "cell_type": "markdown",
      "source": [
        "##### 3. Will the gained insights help creating a positive business impact?\n",
        "Are there any insights that lead to negative growth? Justify with specific reason."
      ],
      "metadata": {
        "id": "rFu4xreNphqO"
      }
    },
    {
      "cell_type": "markdown",
      "source": [
        "* **City hotel has longer waiting time this makes positive impact on business.**\n",
        "* **Resort hotel has less waiting time this makes negative impact on business.**\n",
        "* **The mean of days in waiting list for city hotel is about 1.02 and for resort hotel is about 0.32.**\n",
        "* **Resort hotel need to increase their facilities so that their bookings increases.**"
      ],
      "metadata": {
        "id": "ey_0qi68phqO"
      }
    },
    {
      "cell_type": "markdown",
      "source": [
        "#### Chart - 9"
      ],
      "metadata": {
        "id": "YJ55k-q6phqO"
      }
    },
    {
      "cell_type": "code",
      "source": [
        "# Chart - 9 visualization code\n",
        "year_count = new_hotel_df['arrival_date_year'].value_counts().sort_index()\n",
        "year_count"
      ],
      "metadata": {
        "id": "B2aS4O1ophqO"
      },
      "execution_count": null,
      "outputs": []
    },
    {
      "cell_type": "code",
      "source": [
        "# Visualization of year wise booking using countplot chart\n",
        "sns.countplot(x=new_hotel_df['arrival_date_year'],hue=new_hotel_df['hotel'])\n",
        "plt.title('Year wise Bookings', fontsize = 18)\n",
        "plt.xlabel('Arrival_date_year', fontsize = 15)\n",
        "plt.ylabel('Count of bookings', fontsize = 15)"
      ],
      "metadata": {
        "id": "r0t4GGIO5Qxu"
      },
      "execution_count": null,
      "outputs": []
    },
    {
      "cell_type": "markdown",
      "source": [
        "##### 1. Why did you pick the specific chart?"
      ],
      "metadata": {
        "id": "gCFgpxoyphqP"
      }
    },
    {
      "cell_type": "markdown",
      "source": [
        "**Here i use countplot its help to understand the data in a better way.**"
      ],
      "metadata": {
        "id": "TVxDimi2phqP"
      }
    },
    {
      "cell_type": "markdown",
      "source": [
        "##### 2. What is/are the insight(s) found from the chart?"
      ],
      "metadata": {
        "id": "OVtJsKN_phqQ"
      }
    },
    {
      "cell_type": "markdown",
      "source": [
        "**I find that 2016 has highest bookings and 2015 has lowest bookings.**"
      ],
      "metadata": {
        "id": "ngGi97qjphqQ"
      }
    },
    {
      "cell_type": "markdown",
      "source": [
        "##### 3. Will the gained insights help creating a positive business impact?\n",
        "Are there any insights that lead to negative growth? Justify with specific reason."
      ],
      "metadata": {
        "id": "lssrdh5qphqQ"
      }
    },
    {
      "cell_type": "markdown",
      "source": [
        "* **In Year 2016 has highest bookings this makes positive impact.**\n",
        "* **In Year 2015 has lowest bookings this makes negative impact.**\n",
        "* **In 2016 there were 42313 bookings and in 2015 there were 13284 bookings.**"
      ],
      "metadata": {
        "id": "tBpY5ekJphqQ"
      }
    },
    {
      "cell_type": "markdown",
      "source": [
        "#### Chart - 10"
      ],
      "metadata": {
        "id": "U2RJ9gkRphqQ"
      }
    },
    {
      "cell_type": "code",
      "source": [
        "# Chart - 10 visualization code\n",
        "canceled_per= new_hotel_df['is_canceled'].value_counts(normalize= True)\n",
        "print(canceled_per)"
      ],
      "metadata": {
        "id": "GM7a4YP4phqQ"
      },
      "execution_count": null,
      "outputs": []
    },
    {
      "cell_type": "code",
      "source": [
        "# using bar chart for visualization.\n",
        "plt.figure(figsize=(5,5))\n",
        "plt.title(\"Reservation Status\")\n",
        "plt.bar(['Not Cancelled','Cancelled'], new_hotel_df['is_canceled'].value_counts(), edgecolor='black')\n",
        "plt.show()"
      ],
      "metadata": {
        "id": "I-PY0IxS5pwa"
      },
      "execution_count": null,
      "outputs": []
    },
    {
      "cell_type": "markdown",
      "source": [
        "##### 1. Why did you pick the specific chart?"
      ],
      "metadata": {
        "id": "1M8mcRywphqQ"
      }
    },
    {
      "cell_type": "markdown",
      "source": [
        "**i use barchart to show the visualization of cancellation percentage of booking.**"
      ],
      "metadata": {
        "id": "8agQvks0phqQ"
      }
    },
    {
      "cell_type": "markdown",
      "source": [
        "##### 2. What is/are the insight(s) found from the chart?"
      ],
      "metadata": {
        "id": "tgIPom80phqQ"
      }
    },
    {
      "cell_type": "markdown",
      "source": [
        "**I find that the percentage of booking cancellation is less.**"
      ],
      "metadata": {
        "id": "Qp13pnNzphqQ"
      }
    },
    {
      "cell_type": "markdown",
      "source": [
        "##### 3. Will the gained insights help creating a positive business impact?\n",
        "Are there any insights that lead to negative growth? Justify with specific reason."
      ],
      "metadata": {
        "id": "JMzcOPDDphqR"
      }
    },
    {
      "cell_type": "markdown",
      "source": [
        "\n",
        "\n",
        "* **Insights that i find is cancelled booking percentage is less than the non cancelled booking percentage**\n",
        "\n",
        "\n"
      ],
      "metadata": {
        "id": "R4Ka1PC2phqR"
      }
    },
    {
      "cell_type": "markdown",
      "source": [
        "#### Chart - 11"
      ],
      "metadata": {
        "id": "x-EpHcCOp1ci"
      }
    },
    {
      "cell_type": "code",
      "source": [
        "# Chart - 11 visualization code\n",
        "distribution_channel = new_hotel_df.groupby(['distribution_channel','hotel'])['adr'].mean().reset_index()\n",
        "distribution_channel"
      ],
      "metadata": {
        "id": "mAQTIvtqp1cj"
      },
      "execution_count": null,
      "outputs": []
    },
    {
      "cell_type": "code",
      "source": [
        "# Visualization by using barplot\n",
        "sns.barplot(x='distribution_channel',y='adr',data=distribution_channel,hue='hotel')\n",
        "plt.title('ADR across Distribution channel', fontsize=20)\n",
        "plt.xlabel('Distribution channel',fontsize=15)\n",
        "plt.ylabel('ADR', fontsize=15)"
      ],
      "metadata": {
        "id": "CbqaObAD6Bek"
      },
      "execution_count": null,
      "outputs": []
    },
    {
      "cell_type": "markdown",
      "source": [
        "##### 1. Why did you pick the specific chart?"
      ],
      "metadata": {
        "id": "X_VqEhTip1ck"
      }
    },
    {
      "cell_type": "markdown",
      "source": [
        "**I use here barplot to visualise ADR across distribution channel beacuse it give easy to undertand visualization to large data.**"
      ],
      "metadata": {
        "id": "-vsMzt_np1ck"
      }
    },
    {
      "cell_type": "markdown",
      "source": [
        "##### 2. What is/are the insight(s) found from the chart?"
      ],
      "metadata": {
        "id": "8zGJKyg5p1ck"
      }
    },
    {
      "cell_type": "markdown",
      "source": [
        "**The insight find from the above chart is that GDS channel contributed most in ADR in city hotel and Direct and TA/TO has nearly equal contribution in adr in both hotel types.**"
      ],
      "metadata": {
        "id": "ZYdMsrqVp1ck"
      }
    },
    {
      "cell_type": "markdown",
      "source": [
        "##### 3. Will the gained insights help creating a positive business impact?\n",
        "Are there any insights that lead to negative growth? Justify with specific reason."
      ],
      "metadata": {
        "id": "PVzmfK_Ep1ck"
      }
    },
    {
      "cell_type": "markdown",
      "source": [
        "* **GDS distribution channel contributed more to adr for city hotel and Undefined distribution channel contributed more to adr for resort hotel this makes positive impact.**\n",
        "* **GDS distribution channel has no any contribution to adr for resort hotel and undefined distribution channel contributed less to adr for city hotel this makes neative impact.**\n",
        "* **GDS distribution channel must have increase bookings for resort hotels therefore there contribtuion to adr will increase and income will increase and undefined distribution channel must have increase bookings for city hotels therefore there contribution to adr will increase and income will increase.**"
      ],
      "metadata": {
        "id": "druuKYZpp1ck"
      }
    },
    {
      "cell_type": "markdown",
      "source": [
        "#### Chart - 12"
      ],
      "metadata": {
        "id": "n3dbpmDWp1ck"
      }
    },
    {
      "cell_type": "code",
      "source": [
        "# Chart - 12 visualization code\n",
        "month_booking=new_hotel_df.groupby(['arrival_date_month'])['hotel'].count().reset_index().rename(columns={'hotel':\"Counts of booking\"})\n",
        "month_booking"
      ],
      "metadata": {
        "id": "bwevp1tKp1ck"
      },
      "execution_count": null,
      "outputs": []
    },
    {
      "cell_type": "code",
      "source": [
        "sequence_of_months = ['January','February','March','April','May','June','July','August','September','October','November','December']\n",
        "month_booking['arrival_date_month']=pd.Categorical(month_booking['arrival_date_month'])\n",
        "month_booking=month_booking.sort_values('arrival_date_month')\n",
        "month_booking"
      ],
      "metadata": {
        "id": "JfxJSAn96SvI"
      },
      "execution_count": null,
      "outputs": []
    },
    {
      "cell_type": "code",
      "source": [
        "plt.figure(figsize=(12,7))\n",
        "sns.barplot(data=month_booking, x=\"arrival_date_month\", y=\"Counts of booking\")\n",
        "plt.title(\"Number of Bookings in Months\", fontsize = 20)\n",
        "plt.xlabel('Month', fontsize = 10)\n",
        "plt.ylabel('Number of Bookings', fontsize = 10)"
      ],
      "metadata": {
        "id": "Plz5A2X26W_A"
      },
      "execution_count": null,
      "outputs": []
    },
    {
      "cell_type": "markdown",
      "source": [
        "##### 1. Why did you pick the specific chart?"
      ],
      "metadata": {
        "id": "ylSl6qgtp1ck"
      }
    },
    {
      "cell_type": "markdown",
      "source": [
        "**I use barplot here because it gives data visualization in pictorial form. So comparison becomes easy.**"
      ],
      "metadata": {
        "id": "m2xqNkiQp1ck"
      }
    },
    {
      "cell_type": "markdown",
      "source": [
        "##### 2. What is/are the insight(s) found from the chart?"
      ],
      "metadata": {
        "id": "ZWILFDl5p1ck"
      }
    },
    {
      "cell_type": "markdown",
      "source": [
        "**The insight found from the chart is August month has maximum number of bookings.**"
      ],
      "metadata": {
        "id": "x-lUsV2mp1ck"
      }
    },
    {
      "cell_type": "markdown",
      "source": [
        "##### 3. Will the gained insights help creating a positive business impact?\n",
        "Are there any insights that lead to negative growth? Justify with specific reason."
      ],
      "metadata": {
        "id": "M7G43BXep1ck"
      }
    },
    {
      "cell_type": "markdown",
      "source": [
        "* **July and August months have most bookings this is positive impact on business.**\n",
        "* **November, December and January months have less bookings this is negative impact.**\n",
        "* **July and August months have bookings above the average bookings and November, December and January months have bookings below the average bookings.**"
      ],
      "metadata": {
        "id": "5wwDJXsLp1cl"
      }
    },
    {
      "cell_type": "markdown",
      "source": [
        "#### Chart - 13"
      ],
      "metadata": {
        "id": "Ag9LCva-p1cl"
      }
    },
    {
      "cell_type": "code",
      "source": [
        "# Chart - 13 visualization code\n",
        "top_bookings_by_agent = new_hotel_df['agent'].value_counts().reset_index().rename(columns={'index':'agent','agent':'num_of_bookings'})[:10]\n",
        "top_bookings_by_agent"
      ],
      "metadata": {
        "id": "EUfxeq9-p1cl"
      },
      "execution_count": null,
      "outputs": []
    },
    {
      "cell_type": "code",
      "source": [
        "#barplot is used for visaulization\n",
        "plt.figure(figsize=(6,6))\n",
        "sns.barplot(x=top_bookings_by_agent['agent'],y=top_bookings_by_agent['num_of_bookings'],order=top_bookings_by_agent['agent'])\n",
        "plt.title('Most bookings by the agent', fontsize=18)\n",
        "plt.ylabel('Number of bookings', fontsize=15)\n",
        "plt.xlabel('Agent number', fontsize=15)\n",
        "plt.show()"
      ],
      "metadata": {
        "id": "6e-McJvw6u6x"
      },
      "execution_count": null,
      "outputs": []
    },
    {
      "cell_type": "markdown",
      "source": [
        "##### 1. Why did you pick the specific chart?"
      ],
      "metadata": {
        "id": "E6MkPsBcp1cl"
      }
    },
    {
      "cell_type": "markdown",
      "source": [
        "**I use barplot here because it gives data visualization in pictorial form and due to this comparison of data is easy.**\n",
        "\n"
      ],
      "metadata": {
        "id": "V22bRsFWp1cl"
      }
    },
    {
      "cell_type": "markdown",
      "source": [
        "##### 2. What is/are the insight(s) found from the chart?"
      ],
      "metadata": {
        "id": "2cELzS2fp1cl"
      }
    },
    {
      "cell_type": "markdown",
      "source": [
        "**I find that agent with id number '9.0' made the maximum booking and agent 1.0 made the least booking.**"
      ],
      "metadata": {
        "id": "ozQPc2_Ip1cl"
      }
    },
    {
      "cell_type": "markdown",
      "source": [
        "##### 3. Will the gained insights help creating a positive business impact?\n",
        "Are there any insights that lead to negative growth? Justify with specific reason."
      ],
      "metadata": {
        "id": "3MPXvC8up1cl"
      }
    },
    {
      "cell_type": "markdown",
      "source": [
        "* **Agent no. 9.0, 240 has more bookings which makes positive impact.**\n",
        "* **Agent no. 1.0  has less bookings which makes negative impact.**"
      ],
      "metadata": {
        "id": "GL8l1tdLp1cl"
      }
    },
    {
      "cell_type": "markdown",
      "source": [
        "#### Chart - 14 - Correlation Heatmap"
      ],
      "metadata": {
        "id": "NC_X3p0fY2L0"
      }
    },
    {
      "cell_type": "code",
      "source": [
        "# Correlation Heatmap visualization code\n",
        "correlation_matrix = new_hotel_df.corr()\n",
        "\n",
        "# Create the heatmap\n",
        "plt.figure(figsize=(17,8))\n",
        "sns.heatmap(correlation_matrix, annot=True, cmap='coolwarm', linewidths=0.5)\n",
        "plt.title('Correlation Heatmap')\n",
        "plt.show()"
      ],
      "metadata": {
        "id": "xyC9zolEZNRQ"
      },
      "execution_count": null,
      "outputs": []
    },
    {
      "cell_type": "markdown",
      "source": [
        "##### 1. Why did you pick the specific chart?"
      ],
      "metadata": {
        "id": "UV0SzAkaZNRQ"
      }
    },
    {
      "cell_type": "markdown",
      "source": [
        "**I choose heatmap here because heatmap finds the correlation and  display a more generalized view of numeric values and also utilize color coded systems.**"
      ],
      "metadata": {
        "id": "DVPuT8LYZNRQ"
      }
    },
    {
      "cell_type": "markdown",
      "source": [
        "##### 2. What is/are the insight(s) found from the chart?"
      ],
      "metadata": {
        "id": "YPEH6qLeZNRQ"
      }
    },
    {
      "cell_type": "markdown",
      "source": [
        "**It is showing correlation among variables.**\n",
        "\n",
        "\n",
        "\n"
      ],
      "metadata": {
        "id": "bfSqtnDqZNRR"
      }
    },
    {
      "cell_type": "markdown",
      "source": [
        "#### Chart - 15 - Pair Plot"
      ],
      "metadata": {
        "id": "q29F0dvdveiT"
      }
    },
    {
      "cell_type": "code",
      "source": [
        "# Pair Plot visualization code\n",
        "selected_columns = [ \"adr\", \"lead_time\"]\n",
        "sns.pairplot(new_hotel_df[selected_columns], diag_kind=\"kde\", markers=\"+\")\n",
        "plt.show()\n"
      ],
      "metadata": {
        "id": "o58-TEIhveiU"
      },
      "execution_count": null,
      "outputs": []
    },
    {
      "cell_type": "markdown",
      "source": [
        "##### 1. Why did you pick the specific chart?"
      ],
      "metadata": {
        "id": "EXh0U9oCveiU"
      }
    },
    {
      "cell_type": "markdown",
      "source": [
        "**The pairplot is a flexible tool that allows you to visualize relationships between various features.**"
      ],
      "metadata": {
        "id": "eMmPjTByveiU"
      }
    },
    {
      "cell_type": "markdown",
      "source": [
        "##### 2. What is/are the insight(s) found from the chart?"
      ],
      "metadata": {
        "id": "22aHeOlLveiV"
      }
    },
    {
      "cell_type": "markdown",
      "source": [
        "**I find realtionship between adr and lead time how adr increase and decrease according to leadtime**"
      ],
      "metadata": {
        "id": "uPQ8RGwHveiV"
      }
    },
    {
      "cell_type": "markdown",
      "source": [
        "## **5. Solution to Business Objective**"
      ],
      "metadata": {
        "id": "JcMwzZxoAimU"
      }
    },
    {
      "cell_type": "markdown",
      "source": [
        "#### What do you suggest the client to achieve Business Objective ?\n",
        "Explain Briefly."
      ],
      "metadata": {
        "id": "8G2x9gOozGDZ"
      }
    },
    {
      "cell_type": "markdown",
      "source": [
        "* **1) To increase hotel business some factors are important like high revenue, generation, customers satisfaction, facilities provided by hotel etc.**\n",
        "* **2) I am able to achieve the same things by showing to client which hotel is most preferred , percentage of repeated guests, mostly preferred food by guests, then which hotel has highest adr etc.**\n",
        "* **3) Most preferred room type is achieved by barchart so the client can be well prepare in advance and this insight help client for further enhancement of their service.**\n",
        "* **4) I am able to show which food type is mostly preferred so client can offer the mostly preferred food to the guests.**\n",
        "* **5) Using barplot I am able to show which hotel type has high adr so client can analyse which hotel has high income.**\n",
        "* **6) I am able to show which hotel is has longer waiting time so client can do relatable changes in facilities in less busy hotel type.**\n",
        "*  **7) I am able to find the percentage of repeated guests so the client can improve their facilities.**\n",
        "* **8)With the help of countplot i am able to show which year has highest booking so the client check what he had done in the highest booking year.**\n",
        "\n",
        "\n",
        "\n"
      ],
      "metadata": {
        "id": "pASKb0qOza21"
      }
    },
    {
      "cell_type": "markdown",
      "source": [
        "# **Conclusion**"
      ],
      "metadata": {
        "id": "gCX9965dhzqZ"
      }
    },
    {
      "cell_type": "markdown",
      "source": [
        "* **1) City hotel is mostly preferred hotel by guests.**\n",
        "* **2) Agent no. 9 made the most bookings.**\n",
        "* **3) Percentage of repeated guest is less which is 3.86%.**\n",
        "* **4) Room type A is mostly preferred room type.**\n",
        "* **5) Mostly preferred food type is BBtype food.**\n",
        "* **6) Top five countries with maxmium booking cancellation prt is on first number(59.2) and least booking canellation country is ITA with 6.54%.**\n",
        "* **7) TA/TO distribution channel is mostly used.**\n",
        "* **8) City hotel has highest ADR. Highest ADR means more revenue.**\n",
        "* **9) 2016 year had highest bookings and bookings were 42313.**\n",
        "* **10) City hotel has higher waiting time means city hotel is busier hotel.**\n",
        "* **11) GDS distribution channel contributed most inADR in city hotel but no contribution in resoert hotel.**\n"
      ],
      "metadata": {
        "id": "Fjb1IsQkh3yE"
      }
    },
    {
      "cell_type": "markdown",
      "source": [
        "### ***Hurrah! You have successfully completed your EDA Capstone Project !!!***"
      ],
      "metadata": {
        "id": "gIfDvo9L0UH2"
      }
    }
  ]
}